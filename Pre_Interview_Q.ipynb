{
  "nbformat": 4,
  "nbformat_minor": 0,
  "metadata": {
    "colab": {
      "name": "Pre-Interview Q.ipynb",
      "provenance": [],
      "collapsed_sections": [],
      "authorship_tag": "ABX9TyN+lzRuu8BCYI9ngRVJAdaj",
      "include_colab_link": true
    },
    "kernelspec": {
      "name": "python3",
      "display_name": "Python 3"
    },
    "language_info": {
      "name": "python"
    }
  },
  "cells": [
    {
      "cell_type": "markdown",
      "metadata": {
        "id": "view-in-github",
        "colab_type": "text"
      },
      "source": [
        "<a href=\"https://colab.research.google.com/github/Aniruddha008/Machine-Learning/blob/main/Pre_Interview_Q.ipynb\" target=\"_parent\"><img src=\"https://colab.research.google.com/assets/colab-badge.svg\" alt=\"Open In Colab\"/></a>"
      ]
    },
    {
      "cell_type": "code",
      "metadata": {
        "id": "OuJGNCLoL1EU"
      },
      "source": [
        "class Tensor:\n",
        "\n",
        "  #initializing the data with self\n",
        "\tdef __init__(self, data, shape):\n",
        "\n",
        "\t\tself.data = data\n",
        "\t\tself.shape = shape \n",
        "\n",
        "\n",
        "\n",
        "\tdef unflatten(self):\n",
        "\n",
        "    #data will be copied  into the new list\n",
        "\t\treshaped_data = []\n",
        "\n",
        "\n",
        "    #getting the dimensions\n",
        "\t\tdim1, dim2, dim3 = self.shape[0], self.shape[1], self.shape[2] \n",
        "\n",
        "    #the 3rd dim lets us know the no. of elements in the innermost list\n",
        "    #if they are less than the required, add 0\n",
        "\t\tif len(self.data) % dim3 != 0:\n",
        "\t\t\tself.data.append(0)\n",
        "\n",
        "  #creating the skeleton\n",
        "\t\tfor i in range(dim1):\n",
        "\t\t\treshaped_data.append([])\n",
        "\n",
        "\t\t\tfor _ in range(dim2):\n",
        "\n",
        "\t\t\t\treshaped_data[i].append([])\n",
        "\n",
        "  #inserting values into the skeleton\n",
        "\t\tk = 0\n",
        "\t\tfor i in range(0, len(reshaped_data)):\n",
        "\n",
        "\t\t\tfor j in range(0, len(reshaped_data[i])):\n",
        "\n",
        "        #taking care of \"out of bounds\" exception\n",
        "\t\t\t\tif len(reshaped_data[i][j]) < dim3 :\n",
        "\t\t\t\n",
        "\t\t\t\t\ttry:\n",
        "\t\t\t\t\t\treshaped_data[i][j] = [self.data[k], self.data[k + 1]]\n",
        "\t\t\t\t\t\tk += 2\n",
        "\t\t\t\t\texcept:\n",
        "\t\t\t\t\t\treshaped_data[i][j] = [0, 0]\t\n",
        "\n",
        "\n",
        "\t\treturn reshaped_data\n",
        "\n"
      ],
      "execution_count": 3,
      "outputs": []
    },
    {
      "cell_type": "code",
      "metadata": {
        "colab": {
          "base_uri": "https://localhost:8080/"
        },
        "id": "CmpKtZLdL9hC",
        "outputId": "66a2e5fd-59a5-4755-f9ea-85d0835d6259"
      },
      "source": [
        "data = [0, 1, 2, 3, 4, 5, 0.1, 0.2, -3]\n",
        "shape = [2, 3, 2]\n",
        "tensor = Tensor(data, shape)\n",
        "\n",
        "print(tensor.unflatten())"
      ],
      "execution_count": 4,
      "outputs": [
        {
          "output_type": "stream",
          "name": "stdout",
          "text": [
            "[[[0, 1], [2, 3], [4, 5]], [[0.1, 0.2], [-3, 0], [0, 0]]]\n"
          ]
        }
      ]
    }
  ]
}